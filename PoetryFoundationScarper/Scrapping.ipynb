{
 "cells": [
  {
   "cell_type": "code",
   "execution_count": 37,
   "metadata": {},
   "outputs": [],
   "source": [
    "from selenium import webdriver\n",
    "from selenium.webdriver.edge.service import Service\n",
    "from selenium.webdriver.common.by import By\n",
    "from selenium.webdriver.common.action_chains import ActionChains\n",
    "from selenium.webdriver.support.ui import WebDriverWait\n",
    "from selenium.webdriver.support import expected_conditions as EC\n",
    "from selenium.common.exceptions import StaleElementReferenceException, TimeoutException, NoSuchElementException\n",
    "\n",
    "import pandas as pd\n",
    "import numpy as np\n",
    "from bs4 import BeautifulSoup\n",
    "\n",
    "from time import sleep"
   ]
  },
  {
   "cell_type": "code",
   "execution_count": 38,
   "metadata": {},
   "outputs": [],
   "source": [
    "PATH = r'C:\\Program Files\\Edge Driver\\msedgedriver.exe'\n",
    "\n",
    "service = Service(executable_path=PATH)\n",
    "driver = webdriver.Edge(service=service)\n",
    "\n",
    "driver.get(\"https://www.poetryfoundation.org/poems/browse#page=16&sort_by=recently_added&topics=20\")\n",
    "sleep(5)"
   ]
  },
  {
   "cell_type": "code",
   "execution_count": null,
   "metadata": {},
   "outputs": [],
   "source": [
    "data = {'Title': [],\n",
    "        'Poem': [],\n",
    "        'Author': [],\n",
    "        'Tags': []}\n",
    "\n",
    "for j in range(20, 40) :\n",
    "    for i in range(1, 19) :\n",
    "        title = driver.find_element(By.XPATH, '//*[@id=\"js-assetViewport\"]/div/div/div[2]/div/div[1]/div[3]/ol/li['+str(i)+']/div/div[1]/h2/a/span')\n",
    "        tags = driver.find_element(By.XPATH, '//*[@id=\"js-assetViewport\"]/div/div/div[2]/div/div[1]/div[3]/ol/li['+str(i)+']/div/div[4]/div/span').find_elements(By.TAG_NAME, \"span\")\n",
    "        data['Title'].append(title.text)\n",
    "        tg = []\n",
    "        for tag in tags :\n",
    "            tg.append(tag.text)\n",
    "        data['Tags'].append(tg)\n",
    "        \n",
    "        title.click()\n",
    "        sleep(2)\n",
    "        \n",
    "        try :\n",
    "            author = driver.find_element(By.XPATH, '//*[@id=\"mainContent\"]/div/div[1]/article/div/div/div/div/div[1]/div/div[2]/div/span/a').text\n",
    "        except NoSuchElementException :\n",
    "            author = np.NaN\n",
    "        \n",
    "        data['Author'].append(author)\n",
    "        verses = driver.find_element(By.XPATH, '//*[@id=\"mainContent\"]/div/div[1]/article/div/div/div/div/div[1]/div/div[3]/div').find_elements(By.TAG_NAME, \"div\")\n",
    "        vr = []\n",
    "        for verse in verses :\n",
    "            vr.append(verse.text)\n",
    "        data['Poem'].append(vr)\n",
    "        \n",
    "        driver.execute_script(\"window.history.go(-1)\")\n",
    "        sleep(2)\n",
    "\n",
    "    next = driver.find_element(By.XPATH, '//*[@id=\"js-assetViewport\"]/div/div/div[2]/div/div[1]/div[4]/ol/li['+str(min(3,j))+']/a')\n",
    "    next.click()\n",
    "    sleep(2)"
   ]
  },
  {
   "cell_type": "code",
   "execution_count": null,
   "metadata": {},
   "outputs": [],
   "source": [
    "driver.close()"
   ]
  },
  {
   "cell_type": "code",
   "execution_count": null,
   "metadata": {},
   "outputs": [
    {
     "data": {
      "text/html": [
       "<div>\n",
       "<style scoped>\n",
       "    .dataframe tbody tr th:only-of-type {\n",
       "        vertical-align: middle;\n",
       "    }\n",
       "\n",
       "    .dataframe tbody tr th {\n",
       "        vertical-align: top;\n",
       "    }\n",
       "\n",
       "    .dataframe thead th {\n",
       "        text-align: right;\n",
       "    }\n",
       "</style>\n",
       "<table border=\"1\" class=\"dataframe\">\n",
       "  <thead>\n",
       "    <tr style=\"text-align: right;\">\n",
       "      <th></th>\n",
       "      <th>Title</th>\n",
       "      <th>Poem</th>\n",
       "    </tr>\n",
       "  </thead>\n",
       "  <tbody>\n",
       "    <tr>\n",
       "      <th>0</th>\n",
       "      <td>That’s My Heart Right There</td>\n",
       "      <td>[We used to say,, That’s my heart right there....</td>\n",
       "    </tr>\n",
       "    <tr>\n",
       "      <th>1</th>\n",
       "      <td>To Be Worn Openly at the Wrist, or at the Ches...</td>\n",
       "      <td>[If I believed in a god, he would be a sea god...</td>\n",
       "    </tr>\n",
       "    <tr>\n",
       "      <th>2</th>\n",
       "      <td>The Truth</td>\n",
       "      <td>[          Mitzy fell asleep as soon as we got...</td>\n",
       "    </tr>\n",
       "    <tr>\n",
       "      <th>3</th>\n",
       "      <td>Zugzwang</td>\n",
       "      <td>[I am unhappy about your description of my lif...</td>\n",
       "    </tr>\n",
       "    <tr>\n",
       "      <th>4</th>\n",
       "      <td>From Under the Mat Where Sat the Cat</td>\n",
       "      <td>[Extricate, but not too much,, unfaithful digg...</td>\n",
       "    </tr>\n",
       "  </tbody>\n",
       "</table>\n",
       "</div>"
      ],
      "text/plain": [
       "                                               Title  \\\n",
       "0                        That’s My Heart Right There   \n",
       "1  To Be Worn Openly at the Wrist, or at the Ches...   \n",
       "2                                          The Truth   \n",
       "3                                           Zugzwang   \n",
       "4               From Under the Mat Where Sat the Cat   \n",
       "\n",
       "                                                Poem  \n",
       "0  [We used to say,, That’s my heart right there....  \n",
       "1  [If I believed in a god, he would be a sea god...  \n",
       "2  [          Mitzy fell asleep as soon as we got...  \n",
       "3  [I am unhappy about your description of my lif...  \n",
       "4  [Extricate, but not too much,, unfaithful digg...  "
      ]
     },
     "metadata": {},
     "output_type": "display_data"
    }
   ],
   "source": [
    "df = pd.DataFrame(data)\n",
    "display(df.head())\n",
    "\n",
    "# change name based on poem's topic\n",
    "df.to_csv(\"Love.csv\")\n",
    "# it took 3min to scrap 20 poem"
   ]
  },
  {
   "cell_type": "code",
   "execution_count": null,
   "metadata": {},
   "outputs": [
    {
     "name": "stdout",
     "output_type": "stream",
     "text": [
      "<class 'pandas.core.frame.DataFrame'>\n",
      "RangeIndex: 144 entries, 0 to 143\n",
      "Data columns (total 2 columns):\n",
      " #   Column  Non-Null Count  Dtype \n",
      "---  ------  --------------  ----- \n",
      " 0   Title   144 non-null    object\n",
      " 1   Poem    144 non-null    object\n",
      "dtypes: object(2)\n",
      "memory usage: 2.4+ KB\n"
     ]
    }
   ],
   "source": [
    "df.info()"
   ]
  }
 ],
 "metadata": {
  "kernelspec": {
   "display_name": "Python 3",
   "language": "python",
   "name": "python3"
  },
  "language_info": {
   "codemirror_mode": {
    "name": "ipython",
    "version": 3
   },
   "file_extension": ".py",
   "mimetype": "text/x-python",
   "name": "python",
   "nbconvert_exporter": "python",
   "pygments_lexer": "ipython3",
   "version": "3.12.1"
  }
 },
 "nbformat": 4,
 "nbformat_minor": 2
}
