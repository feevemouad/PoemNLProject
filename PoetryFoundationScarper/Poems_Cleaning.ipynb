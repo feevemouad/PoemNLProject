{
  "cells": [
    {
      "cell_type": "code",
      "execution_count": 1,
      "metadata": {
        "id": "fPb5wfQJooKM"
      },
      "outputs": [
        {
          "name": "stderr",
          "output_type": "stream",
          "text": [
            "C:\\Users\\hp\\AppData\\Local\\Temp\\ipykernel_10552\\1208028533.py:2: DeprecationWarning: \n",
            "Pyarrow will become a required dependency of pandas in the next major release of pandas (pandas 3.0),\n",
            "(to allow more performant data types, such as the Arrow string type, and better interoperability with other libraries)\n",
            "but was not found to be installed on your system.\n",
            "If this would cause problems for you,\n",
            "please provide us feedback at https://github.com/pandas-dev/pandas/issues/54466\n",
            "        \n",
            "  import pandas as pd\n"
          ]
        }
      ],
      "source": [
        "import os\n",
        "import pandas as pd\n",
        "import string\n",
        "import re\n",
        "from ast import literal_eval\n",
        "\n",
        "#! pip install langdetect\n",
        "from langdetect import detect\n",
        "\n",
        "import warnings\n",
        "warnings.simplefilter(action='ignore', category=FutureWarning)"
      ]
    },
    {
      "cell_type": "code",
      "execution_count": 2,
      "metadata": {},
      "outputs": [],
      "source": [
        "SPECIAL_CHARCTER_MAPPING = {\n",
        "    'à': 'a', 'á': 'a', 'â': 'a', 'ã': 'a', 'ä': 'a', 'å': 'a',\n",
        "    'æ': 'ae', 'ﬂ': 'fl', 'Đ': 'D', 'ﬁ': 'fi',\n",
        "    'ç': 'c',\n",
        "    'è': 'e', 'é': 'e', 'ê': 'e', 'ë': 'e',\n",
        "    'ì': 'i', 'í': 'i', 'î': 'i', 'ï': 'i',\n",
        "    'ð': 'd',\n",
        "    'ñ': 'n',\n",
        "    'ò': 'o', 'ó': 'o', 'ô': 'o', 'õ': 'o', 'ö': 'o', 'ø': 'o',\n",
        "    'œ': 'oe',\n",
        "    'ß': 'ss',\n",
        "    'ù': 'u', 'ú': 'u', 'û': 'u', 'ü': 'u',\n",
        "    'ý': 'y', 'ÿ': 'y',\n",
        "    'þ': 'th', 'Þ': 'Th',\n",
        "    'ā': 'a', 'ă': 'a', 'ą': 'a', 'ȁ': 'a',\n",
        "    'ć': 'c', 'ĉ': 'c', 'č': 'c', 'ċ': 'c',\n",
        "    'đ': 'd', 'ď': 'd', 'ḑ': 'd',\n",
        "    'è': 'e', 'é': 'e', 'ê': 'e', 'ë': 'e', 'ę': 'e', 'ě': 'e', 'ĕ': 'e', 'ē': 'e',\n",
        "    'ğ': 'g', 'ġ': 'g', 'ģ': 'g', 'ĝ': 'g',\n",
        "    'ĥ': 'h', 'ħ': 'h', 'ĩ': 'i', 'ī': 'i', 'ĭ': 'i', 'į': 'i', 'ı': 'i',\n",
        "    'ĵ': 'j', 'ǰ': 'j', 'ķ': 'k', 'ĺ': 'l', 'ļ': 'l', 'ľ': 'l', 'Ŀ': 'L', 'ŀ': 'l', 'ł': 'l',\n",
        "    'ŉ': 'n', 'ń': 'n', 'ņ': 'n', 'ň': 'n', 'ŋ': 'n',\n",
        "    'ŏ': 'o', 'ő': 'o', 'ō': 'o', 'ŏ': 'o', 'œ': 'oe',\n",
        "    'ŕ': 'r', 'ř': 'r',\n",
        "    'ś': 's', 'ŝ': 's', 'ş': 's', 'š': 's', 'ș': 's',\n",
        "    'ť': 't', 'ţ': 't', 'ť': 't', 'ŧ': 't', 'ț': 't',\n",
        "    'ũ': 'u', 'ū': 'u', 'ŭ': 'u', 'ů': 'u', 'ű': 'u', 'ų': 'u', 'ŵ': 'w', 'ŷ': 'y', 'ÿ': 'y',\n",
        "    'ź': 'z', 'ž': 'z', 'ż': 'z',\n",
        "    'ă': 'a', 'ĕ': 'e', 'ĭ': 'i', 'ŏ': 'o', 'ŭ': 'u',\n",
        "    'ā': 'a', 'ē': 'e', 'ī': 'i', 'ō': 'o', 'ū': 'u',\n",
        "    'ǎ': 'a', 'ě': 'e', 'ǐ': 'i', 'ǒ': 'o', 'ǔ': 'u',\n",
        "    'ȁ': 'a', 'ȅ': 'e', 'ȉ': 'i', 'ȍ': 'o', 'ȕ': 'u',\n",
        "    'ą': 'a', 'ę': 'e', 'į': 'i', 'ų': 'u',\n",
        "    'ć': 'c', 'ĉ': 'c', 'č': 'c', 'ċ': 'c',\n",
        "    'đ': 'd', 'ď': 'd', 'ḑ': 'd',\n",
        "    'ĝ': 'g', 'ğ': 'g', 'ġ': 'g', 'ģ': 'g',\n",
        "    'ĥ': 'h', 'ħ': 'h',\n",
        "    'ĵ': 'j', 'ǰ': 'j',\n",
        "    'ķ': 'k', 'ĸ': 'k',\n",
        "    'ĺ': 'l', 'ļ': 'l', 'ľ': 'l', 'ŀ': 'l', 'ł': 'l',\n",
        "    'ḿ': 'm', 'ṁ': 'm', 'ṃ': 'm',\n",
        "    'ń': 'n', 'ŉ': 'n', 'ŋ': 'n',\n",
        "    'ŕ': 'r', 'ŗ': 'r', 'ř': 'r',\n",
        "    'ś': 's', 'ŝ': 's', 'ş': 's', 'š': 's', 'ș': 's',\n",
        "    'ţ': 't', 'ť': 't', 'ŧ': 't',\n",
        "    'ũ': 'u', 'ū': 'u', 'ŭ': 'u', 'ů': 'u', 'ű': 'u', 'ų': 'u',\n",
        "    'ŵ': 'w',\n",
        "    'ỳ': 'y', 'ý': 'y', 'ÿ': 'y',\n",
        "    'ź': 'z', 'ż': 'z', 'ž': 'z',\n",
        "    'ạ': 'a', 'ả': 'a', 'ấ': 'a', 'ầ': 'a', 'ẩ': 'a', 'ẫ': 'a', 'ậ': 'a', 'ắ': 'a', 'ằ': 'a', 'ẳ': 'a', 'ẵ': 'a', 'ặ': 'a',\n",
        "    'ắ': 'a', 'ằ': 'a', 'ẳ': 'a', 'ẵ': 'a',\n",
        "    'ặ': 'a', 'ẹ': 'e', 'ẻ': 'e', 'ẽ': 'e', 'ế': 'e', 'ề': 'e', 'ể': 'e', 'ễ': 'e', 'ệ': 'e', 'ỉ': 'i', 'ị': 'i', 'ọ': 'o',\n",
        "    'ỏ': 'o', 'ố': 'o', 'ồ': 'o', 'ổ': 'o', 'ỗ': 'o', 'ộ': 'o', 'ớ': 'o', 'ờ': 'o', 'ở': 'o', 'ỡ': 'o', 'ợ': 'o', 'ụ': 'u',\n",
        "    'ủ': 'u', 'ứ': 'u', 'ừ': 'u', 'ử': 'u', 'ữ': 'u', 'ự': 'u', 'ỳ': 'y', 'ỵ': 'y', 'ỷ': 'y', 'ỹ': 'y',\n",
        "}"
      ]
    },
    {
      "cell_type": "code",
      "execution_count": 8,
      "metadata": {
        "colab": {
          "base_uri": "https://localhost:8080/",
          "height": 597
        },
        "id": "UPM0Z78Yr0OO",
        "outputId": "1b5ce781-b2cf-4b9c-b79f-2291ee89782f"
      },
      "outputs": [
        {
          "name": "stderr",
          "output_type": "stream",
          "text": [
            "<>:12: SyntaxWarning: invalid escape sequence '\\d'\n",
            "<>:12: SyntaxWarning: invalid escape sequence '\\d'\n",
            "C:\\Users\\hp\\AppData\\Local\\Temp\\ipykernel_10552\\2936059097.py:12: SyntaxWarning: invalid escape sequence '\\d'\n",
            "  poem[i] = re.sub('\\d+', '', poem[i]).strip()\n"
          ]
        }
      ],
      "source": [
        "def clean_poem(poem) :\n",
        "  poem = literal_eval(poem)\n",
        "\n",
        "  n = len(poem)\n",
        "  empty_lines_count = 0\n",
        "  punctuation_count = 0\n",
        "  for i in range(n) :\n",
        "    poem[i] = poem[i].replace('\\u200a', ' ').replace('\\u2009', ' ')\n",
        "    if poem[i] in ['___', '_____']: poem[i] = ''\n",
        "    punctuation_count += sum(1 for char in poem[i] if char in string.punctuation)\n",
        "    poem[i] = re.sub(r'[^\\w\\s]', ' ', poem[i]).strip()\n",
        "    poem[i] = re.sub('\\d+', '', poem[i]).strip()\n",
        "    poem[i] = re.sub(r'\\s+', ' ', poem[i]).strip()\n",
        "    \n",
        "    translation_table = str.maketrans(SPECIAL_CHARCTER_MAPPING)    \n",
        "    poem[i] = poem[i].translate(translation_table)\n",
        "    poem[i] = re.sub('[^a-zA-Z]', ' ', poem[i]).strip()\n",
        "    \n",
        "    if poem[i]=='' :\n",
        "      empty_lines_count += 1\n",
        "      continue\n",
        "\n",
        "  poem = [verse.strip() for verse in poem if verse.strip()]\n",
        "\n",
        "  # The following step is CRITICAL !!!!\n",
        "  try :\n",
        "    pom = [verse for verse in poem if detect(verse)=='en']\n",
        "  except :\n",
        "    print(poem)\n",
        "\n",
        "  return punctuation_count, empty_lines_count, pom"
      ]
    },
    {
      "cell_type": "code",
      "execution_count": 9,
      "metadata": {
        "id": "W6U9ZSJnO8vD"
      },
      "outputs": [
        {
          "name": "stdout",
          "output_type": "stream",
          "text": [
            "Process completed successfully.\n"
          ]
        }
      ],
      "source": [
        "data_dir = '9_class_data'\n",
        "os.makedirs(data_dir, exist_ok=True)\n",
        "\n",
        "for csv_file in os.listdir('.'):\n",
        "    if csv_file.endswith('.csv') and csv_file!='data.csv':\n",
        "\n",
        "        category = os.path.splitext(csv_file)[0]\n",
        "\n",
        "        category_dir = os.path.join(data_dir, category)\n",
        "        os.makedirs(category_dir, exist_ok=True)\n",
        "\n",
        "        df = pd.read_csv(csv_file)\n",
        "        if 'Unnamed: 0' in df.columns :\n",
        "            df.drop('Unnamed: 0', axis=1, inplace=True)\n",
        "        df['Category'] = [category]*len(df)\n",
        "        #df['Author'].fillna('Others', inplace=True)\n",
        "        #df['Punctuation_Count'], df['empty_lines_count'], df['Poem'] = zip(*df['Poem'].apply(clean_poem))\n",
        "\n",
        "        for index, poem in enumerate(df['Poem']):\n",
        "            poem_file_path = os.path.join(category_dir, f'{category}_{index}.txt')\n",
        "            with open(poem_file_path, 'w') as f:\n",
        "                f.write('\\n'.join(poem))\n",
        "            df.at[index, 'Poem'] = poem_file_path\n",
        "        \n",
        "        df.to_csv('new_' + csv_file, index=False)\n",
        "\n",
        "print(\"Process completed successfully.\") #44"
      ]
    },
    {
      "cell_type": "code",
      "execution_count": 10,
      "metadata": {},
      "outputs": [
        {
          "name": "stdout",
          "output_type": "stream",
          "text": [
            "Concatenation completed successfully.\n"
          ]
        }
      ],
      "source": [
        "dfs = []\n",
        "\n",
        "# Iterate over each CSV file in the current directory\n",
        "for csv_file in os.listdir('.'):\n",
        "    if csv_file.endswith('.csv'):\n",
        "        # Read the CSV file and append DataFrame to dfs list\n",
        "        df = pd.read_csv(csv_file)\n",
        "        dfs.append(df)\n",
        "\n",
        "# Concatenate all DataFrames in dfs list\n",
        "data = pd.concat(dfs, ignore_index=True)\n",
        "\n",
        "# Write the concatenated DataFrame to data.csv\n",
        "data.to_csv('data.csv', index=False)\n",
        "\n",
        "print(\"Concatenation completed successfully.\")"
      ]
    },
    {
      "cell_type": "code",
      "execution_count": 11,
      "metadata": {},
      "outputs": [
        {
          "data": {
            "text/plain": [
              "3638"
            ]
          },
          "execution_count": 11,
          "metadata": {},
          "output_type": "execute_result"
        }
      ],
      "source": [
        "len(data) # 2648 --> 3368"
      ]
    }
  ],
  "metadata": {
    "colab": {
      "provenance": []
    },
    "kernelspec": {
      "display_name": "Python 3",
      "name": "python3"
    },
    "language_info": {
      "codemirror_mode": {
        "name": "ipython",
        "version": 3
      },
      "file_extension": ".py",
      "mimetype": "text/x-python",
      "name": "python",
      "nbconvert_exporter": "python",
      "pygments_lexer": "ipython3",
      "version": "3.12.1"
    }
  },
  "nbformat": 4,
  "nbformat_minor": 0
}
