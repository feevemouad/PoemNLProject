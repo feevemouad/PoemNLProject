{
  "cells": [
    {
      "cell_type": "code",
      "execution_count": null,
      "metadata": {
        "id": "fPb5wfQJooKM"
      },
      "outputs": [],
      "source": [
        "import os\n",
        "import pandas as pd\n",
        "import string\n",
        "import zipfile\n",
        "import re\n",
        "import numpy as np\n",
        "#! pip install langdetect\n",
        "#from langdetect import detect\n",
        "\n",
        "#import nltk\n",
        "#nltk.download('stopwords')\n",
        "#from nltk.corpus import stopwords"
      ]
    },
    {
      "cell_type": "code",
      "execution_count": null,
      "metadata": {
        "colab": {
          "base_uri": "https://localhost:8080/"
        },
        "id": "YwKCp_LFEfxW",
        "outputId": "7a2d918f-ee14-4b23-c2fa-f4fe6404c457"
      },
      "outputs": [
        {
          "output_type": "stream",
          "name": "stdout",
          "text": [
            "Zip file extracted successfully.\n"
          ]
        }
      ],
      "source": [
        "def extract_zip(zip_file):\n",
        "    try:\n",
        "        with zipfile.ZipFile(zip_file, 'r') as zip_ref:\n",
        "            zip_ref.extractall()\n",
        "        print(\"Zip file extracted successfully.\")\n",
        "    except zipfile.BadZipFile:\n",
        "        print(\"Error: Not a valid zip file.\")\n",
        "    except FileNotFoundError:\n",
        "        print(\"Error: File not found.\")\n",
        "\n",
        "zip_file = \"data.zip\"\n",
        "extract_zip(zip_file)"
      ]
    },
    {
      "cell_type": "code",
      "execution_count": null,
      "metadata": {
        "id": "Fmz3CLH-FQBL"
      },
      "outputs": [],
      "source": [
        "def read_poem(file_path):\n",
        "  file_path = file_path.replace('\\\\', '/')\n",
        "  with open(file_path, 'r') as file:\n",
        "    lines = file.readlines()\n",
        "    poem = ' '.join(lines).replace('\\n', '')\n",
        "  return poem"
      ]
    },
    {
      "cell_type": "code",
      "execution_count": null,
      "metadata": {
        "id": "R-9dVIkHFcaU"
      },
      "outputs": [],
      "source": [
        "df = pd.read_csv(\"data.csv\")"
      ]
    },
    {
      "cell_type": "code",
      "execution_count": null,
      "metadata": {
        "id": "P_EBpPGZXHCX"
      },
      "outputs": [],
      "source": [
        "X = df['Poem'].apply(read_poem).values\n",
        "y = df['Title'].apply(lambda txt: re.sub(r'[^A-Za-z0-9\\s]', '', txt).replace(\"\\u200a\", \"\").strip()).values\n",
        "stratify = df['Category'].values"
      ]
    },
    {
      "cell_type": "code",
      "execution_count": null,
      "metadata": {
        "id": "PebAcaWmXWOy"
      },
      "outputs": [],
      "source": [
        "idx = []\n",
        "for i in range(len(X)) :\n",
        "  if len(X[i]) <= 100 : idx.append(i)\n",
        "\n",
        "X = np.delete(X, idx)\n",
        "y = np.delete(y, idx)\n",
        "stratify = np.delete(stratify, idx)\n",
        "\n",
        "idx = []\n",
        "for i in range(len(y)) :\n",
        "  if len(y[i]) <= 4 : idx.append(i)\n",
        "\n",
        "X = np.delete(X, idx)\n",
        "y = np.delete(y, idx)\n",
        "stratify = np.delete(stratify, idx)"
      ]
    },
    {
      "cell_type": "code",
      "source": [
        "len(X)"
      ],
      "metadata": {
        "colab": {
          "base_uri": "https://localhost:8080/"
        },
        "id": "i8SCBctiB0LM",
        "outputId": "d5e06d65-7777-4c78-8901-7e33c240d710"
      },
      "execution_count": null,
      "outputs": [
        {
          "output_type": "execute_result",
          "data": {
            "text/plain": [
              "3129"
            ]
          },
          "metadata": {},
          "execution_count": 10
        }
      ]
    },
    {
      "cell_type": "code",
      "execution_count": null,
      "metadata": {
        "id": "mbVgLe90XyEZ"
      },
      "outputs": [],
      "source": [
        "from sklearn.model_selection import train_test_split\n",
        "X_train, X_test, y_train, y_test = train_test_split(X, y, test_size=0.2, random_state=77, stratify=stratify)\n",
        "train_df = pd.DataFrame({'source_text': X_train, 'target_text': y_train})\n",
        "eval_df = pd.DataFrame({'source_text': X_test, 'target_text': y_test})"
      ]
    },
    {
      "cell_type": "code",
      "execution_count": null,
      "metadata": {
        "colab": {
          "base_uri": "https://localhost:8080/"
        },
        "id": "FQ2Q_3-Besqq",
        "outputId": "2cca07bf-de65-4f5c-a11d-56ea013c3813"
      },
      "outputs": [
        {
          "output_type": "stream",
          "name": "stdout",
          "text": [
            "Requirement already satisfied: simplet5 in /usr/local/lib/python3.10/dist-packages (0.1.4)\n",
            "Requirement already satisfied: numpy in /usr/local/lib/python3.10/dist-packages (from simplet5) (1.25.2)\n",
            "Requirement already satisfied: pandas in /usr/local/lib/python3.10/dist-packages (from simplet5) (2.0.3)\n",
            "Requirement already satisfied: sentencepiece in /usr/local/lib/python3.10/dist-packages (from simplet5) (0.1.99)\n",
            "Requirement already satisfied: torch!=1.8.0,>=1.7.0 in /usr/local/lib/python3.10/dist-packages (from simplet5) (2.2.1+cu121)\n",
            "Requirement already satisfied: transformers==4.16.2 in /usr/local/lib/python3.10/dist-packages (from simplet5) (4.16.2)\n",
            "Requirement already satisfied: pytorch-lightning==1.5.10 in /usr/local/lib/python3.10/dist-packages (from simplet5) (1.5.10)\n",
            "Requirement already satisfied: future>=0.17.1 in /usr/local/lib/python3.10/dist-packages (from pytorch-lightning==1.5.10->simplet5) (0.18.3)\n",
            "Requirement already satisfied: tqdm>=4.41.0 in /usr/local/lib/python3.10/dist-packages (from pytorch-lightning==1.5.10->simplet5) (4.66.4)\n",
            "Requirement already satisfied: PyYAML>=5.1 in /usr/local/lib/python3.10/dist-packages (from pytorch-lightning==1.5.10->simplet5) (6.0.1)\n",
            "Requirement already satisfied: fsspec[http]!=2021.06.0,>=2021.05.0 in /usr/local/lib/python3.10/dist-packages (from pytorch-lightning==1.5.10->simplet5) (2023.6.0)\n",
            "Requirement already satisfied: tensorboard>=2.2.0 in /usr/local/lib/python3.10/dist-packages (from pytorch-lightning==1.5.10->simplet5) (2.15.2)\n",
            "Requirement already satisfied: torchmetrics>=0.4.1 in /usr/local/lib/python3.10/dist-packages (from pytorch-lightning==1.5.10->simplet5) (1.4.0)\n",
            "Requirement already satisfied: pyDeprecate==0.3.1 in /usr/local/lib/python3.10/dist-packages (from pytorch-lightning==1.5.10->simplet5) (0.3.1)\n",
            "Requirement already satisfied: packaging>=17.0 in /usr/local/lib/python3.10/dist-packages (from pytorch-lightning==1.5.10->simplet5) (24.0)\n",
            "Requirement already satisfied: typing-extensions in /usr/local/lib/python3.10/dist-packages (from pytorch-lightning==1.5.10->simplet5) (4.11.0)\n",
            "Requirement already satisfied: setuptools==59.5.0 in /usr/local/lib/python3.10/dist-packages (from pytorch-lightning==1.5.10->simplet5) (59.5.0)\n",
            "Requirement already satisfied: filelock in /usr/local/lib/python3.10/dist-packages (from transformers==4.16.2->simplet5) (3.14.0)\n",
            "Requirement already satisfied: huggingface-hub<1.0,>=0.1.0 in /usr/local/lib/python3.10/dist-packages (from transformers==4.16.2->simplet5) (0.20.3)\n",
            "Requirement already satisfied: regex!=2019.12.17 in /usr/local/lib/python3.10/dist-packages (from transformers==4.16.2->simplet5) (2023.12.25)\n",
            "Requirement already satisfied: requests in /usr/local/lib/python3.10/dist-packages (from transformers==4.16.2->simplet5) (2.31.0)\n",
            "Requirement already satisfied: sacremoses in /usr/local/lib/python3.10/dist-packages (from transformers==4.16.2->simplet5) (0.1.1)\n",
            "Requirement already satisfied: tokenizers!=0.11.3,>=0.10.1 in /usr/local/lib/python3.10/dist-packages (from transformers==4.16.2->simplet5) (0.19.1)\n",
            "Requirement already satisfied: sympy in /usr/local/lib/python3.10/dist-packages (from torch!=1.8.0,>=1.7.0->simplet5) (1.12)\n",
            "Requirement already satisfied: networkx in /usr/local/lib/python3.10/dist-packages (from torch!=1.8.0,>=1.7.0->simplet5) (3.3)\n",
            "Requirement already satisfied: jinja2 in /usr/local/lib/python3.10/dist-packages (from torch!=1.8.0,>=1.7.0->simplet5) (3.1.4)\n",
            "Requirement already satisfied: nvidia-cuda-nvrtc-cu12==12.1.105 in /usr/local/lib/python3.10/dist-packages (from torch!=1.8.0,>=1.7.0->simplet5) (12.1.105)\n",
            "Requirement already satisfied: nvidia-cuda-runtime-cu12==12.1.105 in /usr/local/lib/python3.10/dist-packages (from torch!=1.8.0,>=1.7.0->simplet5) (12.1.105)\n",
            "Requirement already satisfied: nvidia-cuda-cupti-cu12==12.1.105 in /usr/local/lib/python3.10/dist-packages (from torch!=1.8.0,>=1.7.0->simplet5) (12.1.105)\n",
            "Requirement already satisfied: nvidia-cudnn-cu12==8.9.2.26 in /usr/local/lib/python3.10/dist-packages (from torch!=1.8.0,>=1.7.0->simplet5) (8.9.2.26)\n",
            "Requirement already satisfied: nvidia-cublas-cu12==12.1.3.1 in /usr/local/lib/python3.10/dist-packages (from torch!=1.8.0,>=1.7.0->simplet5) (12.1.3.1)\n",
            "Requirement already satisfied: nvidia-cufft-cu12==11.0.2.54 in /usr/local/lib/python3.10/dist-packages (from torch!=1.8.0,>=1.7.0->simplet5) (11.0.2.54)\n",
            "Requirement already satisfied: nvidia-curand-cu12==10.3.2.106 in /usr/local/lib/python3.10/dist-packages (from torch!=1.8.0,>=1.7.0->simplet5) (10.3.2.106)\n",
            "Requirement already satisfied: nvidia-cusolver-cu12==11.4.5.107 in /usr/local/lib/python3.10/dist-packages (from torch!=1.8.0,>=1.7.0->simplet5) (11.4.5.107)\n",
            "Requirement already satisfied: nvidia-cusparse-cu12==12.1.0.106 in /usr/local/lib/python3.10/dist-packages (from torch!=1.8.0,>=1.7.0->simplet5) (12.1.0.106)\n",
            "Requirement already satisfied: nvidia-nccl-cu12==2.19.3 in /usr/local/lib/python3.10/dist-packages (from torch!=1.8.0,>=1.7.0->simplet5) (2.19.3)\n",
            "Requirement already satisfied: nvidia-nvtx-cu12==12.1.105 in /usr/local/lib/python3.10/dist-packages (from torch!=1.8.0,>=1.7.0->simplet5) (12.1.105)\n",
            "Requirement already satisfied: triton==2.2.0 in /usr/local/lib/python3.10/dist-packages (from torch!=1.8.0,>=1.7.0->simplet5) (2.2.0)\n",
            "Requirement already satisfied: nvidia-nvjitlink-cu12 in /usr/local/lib/python3.10/dist-packages (from nvidia-cusolver-cu12==11.4.5.107->torch!=1.8.0,>=1.7.0->simplet5) (12.4.127)\n",
            "Requirement already satisfied: python-dateutil>=2.8.2 in /usr/local/lib/python3.10/dist-packages (from pandas->simplet5) (2.8.2)\n",
            "Requirement already satisfied: pytz>=2020.1 in /usr/local/lib/python3.10/dist-packages (from pandas->simplet5) (2023.4)\n",
            "Requirement already satisfied: tzdata>=2022.1 in /usr/local/lib/python3.10/dist-packages (from pandas->simplet5) (2024.1)\n",
            "Requirement already satisfied: aiohttp!=4.0.0a0,!=4.0.0a1 in /usr/local/lib/python3.10/dist-packages (from fsspec[http]!=2021.06.0,>=2021.05.0->pytorch-lightning==1.5.10->simplet5) (3.9.5)\n",
            "Requirement already satisfied: six>=1.5 in /usr/local/lib/python3.10/dist-packages (from python-dateutil>=2.8.2->pandas->simplet5) (1.16.0)\n",
            "Requirement already satisfied: absl-py>=0.4 in /usr/local/lib/python3.10/dist-packages (from tensorboard>=2.2.0->pytorch-lightning==1.5.10->simplet5) (1.4.0)\n",
            "Requirement already satisfied: grpcio>=1.48.2 in /usr/local/lib/python3.10/dist-packages (from tensorboard>=2.2.0->pytorch-lightning==1.5.10->simplet5) (1.63.0)\n",
            "Requirement already satisfied: google-auth<3,>=1.6.3 in /usr/local/lib/python3.10/dist-packages (from tensorboard>=2.2.0->pytorch-lightning==1.5.10->simplet5) (2.27.0)\n",
            "Requirement already satisfied: google-auth-oauthlib<2,>=0.5 in /usr/local/lib/python3.10/dist-packages (from tensorboard>=2.2.0->pytorch-lightning==1.5.10->simplet5) (1.2.0)\n",
            "Requirement already satisfied: markdown>=2.6.8 in /usr/local/lib/python3.10/dist-packages (from tensorboard>=2.2.0->pytorch-lightning==1.5.10->simplet5) (3.6)\n",
            "Requirement already satisfied: protobuf!=4.24.0,>=3.19.6 in /usr/local/lib/python3.10/dist-packages (from tensorboard>=2.2.0->pytorch-lightning==1.5.10->simplet5) (3.20.3)\n",
            "Requirement already satisfied: tensorboard-data-server<0.8.0,>=0.7.0 in /usr/local/lib/python3.10/dist-packages (from tensorboard>=2.2.0->pytorch-lightning==1.5.10->simplet5) (0.7.2)\n",
            "Requirement already satisfied: werkzeug>=1.0.1 in /usr/local/lib/python3.10/dist-packages (from tensorboard>=2.2.0->pytorch-lightning==1.5.10->simplet5) (3.0.3)\n",
            "Requirement already satisfied: charset-normalizer<4,>=2 in /usr/local/lib/python3.10/dist-packages (from requests->transformers==4.16.2->simplet5) (3.3.2)\n",
            "Requirement already satisfied: idna<4,>=2.5 in /usr/local/lib/python3.10/dist-packages (from requests->transformers==4.16.2->simplet5) (3.7)\n",
            "Requirement already satisfied: urllib3<3,>=1.21.1 in /usr/local/lib/python3.10/dist-packages (from requests->transformers==4.16.2->simplet5) (2.0.7)\n",
            "Requirement already satisfied: certifi>=2017.4.17 in /usr/local/lib/python3.10/dist-packages (from requests->transformers==4.16.2->simplet5) (2024.2.2)\n",
            "Requirement already satisfied: lightning-utilities>=0.8.0 in /usr/local/lib/python3.10/dist-packages (from torchmetrics>=0.4.1->pytorch-lightning==1.5.10->simplet5) (0.11.2)\n",
            "Requirement already satisfied: pretty-errors==1.2.25 in /usr/local/lib/python3.10/dist-packages (from torchmetrics>=0.4.1->pytorch-lightning==1.5.10->simplet5) (1.2.25)\n",
            "Requirement already satisfied: colorama in /usr/local/lib/python3.10/dist-packages (from pretty-errors==1.2.25->torchmetrics>=0.4.1->pytorch-lightning==1.5.10->simplet5) (0.4.6)\n",
            "Requirement already satisfied: MarkupSafe>=2.0 in /usr/local/lib/python3.10/dist-packages (from jinja2->torch!=1.8.0,>=1.7.0->simplet5) (2.1.5)\n",
            "Requirement already satisfied: click in /usr/local/lib/python3.10/dist-packages (from sacremoses->transformers==4.16.2->simplet5) (8.1.7)\n",
            "Requirement already satisfied: joblib in /usr/local/lib/python3.10/dist-packages (from sacremoses->transformers==4.16.2->simplet5) (1.4.2)\n",
            "Requirement already satisfied: mpmath>=0.19 in /usr/local/lib/python3.10/dist-packages (from sympy->torch!=1.8.0,>=1.7.0->simplet5) (1.3.0)\n",
            "Requirement already satisfied: aiosignal>=1.1.2 in /usr/local/lib/python3.10/dist-packages (from aiohttp!=4.0.0a0,!=4.0.0a1->fsspec[http]!=2021.06.0,>=2021.05.0->pytorch-lightning==1.5.10->simplet5) (1.3.1)\n",
            "Requirement already satisfied: attrs>=17.3.0 in /usr/local/lib/python3.10/dist-packages (from aiohttp!=4.0.0a0,!=4.0.0a1->fsspec[http]!=2021.06.0,>=2021.05.0->pytorch-lightning==1.5.10->simplet5) (23.2.0)\n",
            "Requirement already satisfied: frozenlist>=1.1.1 in /usr/local/lib/python3.10/dist-packages (from aiohttp!=4.0.0a0,!=4.0.0a1->fsspec[http]!=2021.06.0,>=2021.05.0->pytorch-lightning==1.5.10->simplet5) (1.4.1)\n",
            "Requirement already satisfied: multidict<7.0,>=4.5 in /usr/local/lib/python3.10/dist-packages (from aiohttp!=4.0.0a0,!=4.0.0a1->fsspec[http]!=2021.06.0,>=2021.05.0->pytorch-lightning==1.5.10->simplet5) (6.0.5)\n",
            "Requirement already satisfied: yarl<2.0,>=1.0 in /usr/local/lib/python3.10/dist-packages (from aiohttp!=4.0.0a0,!=4.0.0a1->fsspec[http]!=2021.06.0,>=2021.05.0->pytorch-lightning==1.5.10->simplet5) (1.9.4)\n",
            "Requirement already satisfied: async-timeout<5.0,>=4.0 in /usr/local/lib/python3.10/dist-packages (from aiohttp!=4.0.0a0,!=4.0.0a1->fsspec[http]!=2021.06.0,>=2021.05.0->pytorch-lightning==1.5.10->simplet5) (4.0.3)\n",
            "Requirement already satisfied: cachetools<6.0,>=2.0.0 in /usr/local/lib/python3.10/dist-packages (from google-auth<3,>=1.6.3->tensorboard>=2.2.0->pytorch-lightning==1.5.10->simplet5) (5.3.3)\n",
            "Requirement already satisfied: pyasn1-modules>=0.2.1 in /usr/local/lib/python3.10/dist-packages (from google-auth<3,>=1.6.3->tensorboard>=2.2.0->pytorch-lightning==1.5.10->simplet5) (0.4.0)\n",
            "Requirement already satisfied: rsa<5,>=3.1.4 in /usr/local/lib/python3.10/dist-packages (from google-auth<3,>=1.6.3->tensorboard>=2.2.0->pytorch-lightning==1.5.10->simplet5) (4.9)\n",
            "Requirement already satisfied: requests-oauthlib>=0.7.0 in /usr/local/lib/python3.10/dist-packages (from google-auth-oauthlib<2,>=0.5->tensorboard>=2.2.0->pytorch-lightning==1.5.10->simplet5) (1.3.1)\n",
            "Requirement already satisfied: pyasn1<0.7.0,>=0.4.6 in /usr/local/lib/python3.10/dist-packages (from pyasn1-modules>=0.2.1->google-auth<3,>=1.6.3->tensorboard>=2.2.0->pytorch-lightning==1.5.10->simplet5) (0.6.0)\n",
            "Requirement already satisfied: oauthlib>=3.0.0 in /usr/local/lib/python3.10/dist-packages (from requests-oauthlib>=0.7.0->google-auth-oauthlib<2,>=0.5->tensorboard>=2.2.0->pytorch-lightning==1.5.10->simplet5) (3.2.2)\n"
          ]
        }
      ],
      "source": [
        "# It's advisable to create a new python environment and install simplet5\n",
        "!pip install --upgrade simplet5"
      ]
    },
    {
      "cell_type": "code",
      "execution_count": null,
      "metadata": {
        "id": "IQNX10UWe2sZ"
      },
      "outputs": [],
      "source": [
        "# import\n",
        "from simplet5 import SimpleT5\n",
        "\n",
        "# instantiate\n",
        "model = SimpleT5()\n",
        "\n",
        "# load (supports t5, mt5, byT5 and CodeT5 models)\n",
        "model.from_pretrained(\"t5\",\"t5-base\")\n",
        "\n",
        "# train\n",
        "model.train(train_df=train_df, # pandas dataframe with 2 columns: source_text & target_text\n",
        "            eval_df=eval_df, # pandas dataframe with 2 columns: source_text & target_text\n",
        "            source_max_token_len = 900,\n",
        "            target_max_token_len = 5,\n",
        "            batch_size = 8,\n",
        "            max_epochs = 5,\n",
        "            use_gpu = True,\n",
        "            outputdir = \"outputs_2\",\n",
        "            early_stopping_patience_epochs = 0,\n",
        "            precision = 16\n",
        "            )"
      ]
    },
    {
      "cell_type": "code",
      "source": [
        "# load trained T5 model\n",
        "model.load_model(\"t5\",\"/content/outputs/simplet5-epoch-4-train-loss-nan-val-loss-2.9005\", use_gpu=True)"
      ],
      "metadata": {
        "id": "ZMX5mwE1zXSu"
      },
      "execution_count": null,
      "outputs": []
    },
    {
      "cell_type": "code",
      "source": [
        "# Enchanted Beach with Three Fluid Graces\n",
        "model.predict(\"All things begin from the spindle we say life spun from graces I grew like rain from rumbles of my parents cloud a dark dawn admitting growth In the beginning I squeeze into existence with a head white silhouette like formed from the stomach of the hard earth on a farther landscape face formed in a hole a body merging into visibility The last war of my body was unscathed admitting the shapes of various dances The second grace where I am a boy seeking existential relevance my visage like a landscape with an equestrian man with the body of dust pursuing the horse of his identity relevance seeking The thread of my life stretched to the doorsill of disappearance the length of my language nearing a silence I am the last body rhyming with the earth becoming more illusion than truth Holding onto the edge of my thread bowing to the ache of an empty body my fingers grip the edge of my cloth Nature becomes a skull\".lower())"
      ],
      "metadata": {
        "colab": {
          "base_uri": "https://localhost:8080/"
        },
        "id": "FWOBMKK4zlUt",
        "outputId": "c2f10c7e-3ba9-49f2-ee1c-a0a364e41e9a"
      },
      "execution_count": null,
      "outputs": [
        {
          "output_type": "execute_result",
          "data": {
            "text/plain": [
              "['from graces']"
            ]
          },
          "metadata": {},
          "execution_count": 17
        }
      ]
    },
    {
      "cell_type": "code",
      "source": [
        "# Caged Bird\n",
        "model.predict(\"The free bird leaps on the back of the wind and floats downstream till the current ends and dips his wings in the orange sun rays and dares to claim the sky But a bird that stalks down his narrow cage can seldom see through his bars of ragehis wings are clipped and his feet are tied so he opens his throat to sing The caged bird sings with fearful trill of the things unknown but longed for still and his tune is heard on the distant hill for the caged bird sings of freedom The free bird thinks of another breeze and the trade winds soft through the sighing trees and the fat worms waiting on a dawn-bright lawn and he names the sky his own But a caged bird stands on the grave of dreams his shadow shouts on a nightmare scream his wings are clipped and his feet are tied so he opens his throat to sing The caged bird sings with a fearful trill of things unknown but longed for still and his tune is heard on the distant hill for the caged bird sings of freedom\".lower())"
      ],
      "metadata": {
        "colab": {
          "base_uri": "https://localhost:8080/"
        },
        "id": "ZHYUV1Bd29X0",
        "outputId": "b1488b0c-6059-4a8d-b61b-9ad9b4494619"
      },
      "execution_count": null,
      "outputs": [
        {
          "output_type": "execute_result",
          "data": {
            "text/plain": [
              "['a caged bird']"
            ]
          },
          "metadata": {},
          "execution_count": 18
        }
      ]
    },
    {
      "cell_type": "code",
      "source": [
        "# Each Life Converges to Some Centre\n",
        "model.predict(\"Each life converges to some centre Expressed or still Exists in every human nature A goal Admitted scarcely to itself it may be Too fair For credibilitys temerity To dare Adored with caution as a brittle heaven To reach Were hopeless as the rainbows raiment To touch Yet persevered toward surer for the distance How high Unto the saints slow diligence The sky Ungained it may be by a lifes low venture But then Eternity enables the endeavoring Again\".lower())"
      ],
      "metadata": {
        "colab": {
          "base_uri": "https://localhost:8080/"
        },
        "id": "ccO_sl8xVcZv",
        "outputId": "3b544794-d730-4ce8-9690-cb645e1bdf7b"
      },
      "execution_count": null,
      "outputs": [
        {
          "output_type": "execute_result",
          "data": {
            "text/plain": [
              "['A Lifes Low Venture']"
            ]
          },
          "metadata": {},
          "execution_count": 19
        }
      ]
    },
    {
      "cell_type": "code",
      "source": [
        "def clean(input_string):\n",
        "    punctuation_chars = set(string.punctuation)\n",
        "    cleaned_string = ''.join(char for char in input_string if char not in punctuation_chars)\n",
        "    cleaned_string = cleaned_string.replace('\\n', '')\n",
        "    cleaned_string = re.sub(r'\\s+', ' ', cleaned_string)\n",
        "    return cleaned_string.lower()"
      ],
      "metadata": {
        "id": "324TLh4WX8NE"
      },
      "execution_count": null,
      "outputs": []
    },
    {
      "cell_type": "code",
      "source": [
        "# If ---\n",
        "poem = \"\"\"\n",
        "  If you can keep your head when all about you\n",
        "  Are losing theirs and blaming it on you;\n",
        "  If you can trust yourself when all men doubt you,\n",
        "  But make allowance for their doubting too:\n",
        "  If you can wait and not be tired by waiting,\n",
        "  Or, being lied about, don’t deal in lies,\n",
        "  Or being hated don’t give way to hating,\n",
        "  And yet don’t look too good, nor talk too wise;\n",
        "  If you can dream—and not make dreams your master;\n",
        "  If you can think—and not make thoughts your aim,\n",
        "  If you can meet with Triumph and Disaster\n",
        "  And treat those two impostors just the same:\n",
        "  If you can bear to hear the truth you’ve spoken\n",
        "  Twisted by knaves to make a trap for fools,\n",
        "  Or watch the things you gave your life to, broken,\n",
        "  And stoop and build ’em up with worn-out tools;\n",
        "  If you can make one heap of all your winnings\n",
        "  And risk it on one turn of pitch-and-toss,\n",
        "  And lose, and start again at your beginnings,\n",
        "  And never breathe a word about your loss:\n",
        "  If you can force your heart and nerve and sinew\n",
        "  To serve your turn long after they are gone,\n",
        "  And so hold on when there is nothing in you\n",
        "  Except the Will which says to them: ‘Hold on!’\n",
        "  If you can talk with crowds and keep your virtue,\n",
        "  Or walk with Kings—nor lose the common touch,\n",
        "  If neither foes nor loving friends can hurt you,\n",
        "  If all men count with you, but none too much:\n",
        "  If you can fill the unforgiving minute\n",
        "  With sixty seconds’ worth of distance run,\n",
        "  Yours is the Earth and everything that’s in it,\n",
        "  And—which is more—you’ll be a Man, my son!\n",
        "\"\"\"\n",
        "model.predict(clean(poem))"
      ],
      "metadata": {
        "colab": {
          "base_uri": "https://localhost:8080/"
        },
        "id": "_SeTYey2WThu",
        "outputId": "181caae9-1dea-4e7a-ed32-df7473c3c0bb"
      },
      "execution_count": null,
      "outputs": [
        {
          "output_type": "execute_result",
          "data": {
            "text/plain": [
              "['if you can keep your head when all about you are losing theirs']"
            ]
          },
          "metadata": {},
          "execution_count": 21
        }
      ]
    },
    {
      "cell_type": "code",
      "source": [
        "# Hope is the thing with feathers\n",
        "poem = \"\"\"\n",
        "  Hope is the thing with feathers\n",
        "  That perches in the soul,\n",
        "  And sings the tune without the words,\n",
        "  And never stops at all,\n",
        "  And sweetest in the gale is heard;\n",
        "  And sore must be the storm\n",
        "  That could abash the little bird\n",
        "  That kept so many warm.\n",
        "  I’ve heard it in the chillest land,\n",
        "  And on the strangest sea;\n",
        "  Yet, never, in extremity,\n",
        "  It asked a crumb of me.\n",
        "\"\"\"\n",
        "model.predict(clean(poem))"
      ],
      "metadata": {
        "colab": {
          "base_uri": "https://localhost:8080/"
        },
        "id": "MXEWnYStZXzm",
        "outputId": "a1808b05-cc8e-4796-cfe7-e6585e2fd099"
      },
      "execution_count": null,
      "outputs": [
        {
          "output_type": "execute_result",
          "data": {
            "text/plain": [
              "['Hope is the thing with feathers']"
            ]
          },
          "metadata": {},
          "execution_count": 23
        }
      ]
    },
    {
      "cell_type": "code",
      "source": [
        "# The Guest House\n",
        "poem = \"\"\"\n",
        "  This being human is a guest house.\n",
        "  Every morning a new arrival.\n",
        "  A joy, a depression, a meanness,\n",
        "  some momentary awareness comes\n",
        "  As an unexpected visitor.\n",
        "  Welcome and entertain them all!\n",
        "  Even if they’re a crowd of sorrows,\n",
        "  who violently sweep your house\n",
        "  empty of its furniture,\n",
        "  still treat each guest honorably.\n",
        "  He may be clearing you out\n",
        "  for some new delight.\n",
        "  The dark thought, the shame, the malice,\n",
        "  meet them at the door laughing,\n",
        "  and invite them in.\n",
        "  Be grateful for whoever comes,\n",
        "  because each has been sent\n",
        "  as a guide from beyond.\n",
        "\"\"\"\n",
        "model.predict(clean(poem))"
      ],
      "metadata": {
        "colab": {
          "base_uri": "https://localhost:8080/"
        },
        "id": "8TXtTLXgZpfZ",
        "outputId": "b0e2ddf3-e52a-41f6-bc79-94e045c39296"
      },
      "execution_count": null,
      "outputs": [
        {
          "output_type": "execute_result",
          "data": {
            "text/plain": [
              "['a guest house every morning']"
            ]
          },
          "metadata": {},
          "execution_count": 24
        }
      ]
    },
    {
      "cell_type": "code",
      "source": [
        "# Life Is\n",
        "poem = \"\"\"\n",
        "  Life is an opportunity, benefit from it.\n",
        "  Life is beauty, admire it.\n",
        "  Life is a dream, realize it.\n",
        "  Life is a challenge, meet it.\n",
        "  Life is a duty, complete it.\n",
        "  Life is a game, play it.\n",
        "  Life is a promise, fulfill it.\n",
        "  Life is sorrow, overcome it.\n",
        "  Life is a song, sing it.\n",
        "  Life is a struggle, accept it.\n",
        "  Life is a tragedy, confront it.\n",
        "  Life is an adventure, dare it.\n",
        "  Life is luck, make it.\n",
        "  Life is life, fight for it.\n",
        "\"\"\"\n",
        "model.predict(clean(poem))"
      ],
      "metadata": {
        "colab": {
          "base_uri": "https://localhost:8080/"
        },
        "id": "P18Tj3lFaM43",
        "outputId": "a9436762-a054-4f86-ba26-04c6283843f8"
      },
      "execution_count": null,
      "outputs": [
        {
          "output_type": "execute_result",
          "data": {
            "text/plain": [
              "['life is an opportunity']"
            ]
          },
          "metadata": {},
          "execution_count": 25
        }
      ]
    },
    {
      "cell_type": "code",
      "source": [
        "# Start Where You Stand\n",
        "poem = \"\"\"\n",
        "  Start where you stand and never mind the past,\n",
        "  The past won’t help you in beginning new,\n",
        "  If you have left it all behind at last\n",
        "  Why, that’s enough, you’re done with it, you’re through;\n",
        "  This is another chapter in the book,\n",
        "  This is another race that you have planned,\n",
        "  Don’t give the vanished days a backward look,\n",
        "  Start where you stand.\n",
        "  The world won’t care about your old defeats\n",
        "  If you can start anew and win success,\n",
        "  The future is your time, and time is fleet\n",
        "  And there is much of work and strain and stress;\n",
        "  Forget the buried woes and dead despairs,\n",
        "  Here is a brand new trial right at hand,\n",
        "  The future is for him who does and dares,\n",
        "  Start where you stand.\n",
        "  Old failures will not halt, old triumphs aid,\n",
        "  To-day’s the thing, to-morrow soon will be;\n",
        "  Get in the fight and face it unafraid,\n",
        "  And leave the past to ancient history;\n",
        "  What has been, has been; yesterday is dead\n",
        "  And by it you are neither blessed nor banned,\n",
        "  Take courage, man, be brave and drive ahead,\n",
        "  Start where you stand.\n",
        "\"\"\"\n",
        "model.predict(clean(poem))"
      ],
      "metadata": {
        "colab": {
          "base_uri": "https://localhost:8080/"
        },
        "id": "W0T70_owagB6",
        "outputId": "cf7c8c9e-ddcf-4a6b-822c-2c4ec06f2eb3"
      },
      "execution_count": null,
      "outputs": [
        {
          "output_type": "execute_result",
          "data": {
            "text/plain": [
              "['start where you stand']"
            ]
          },
          "metadata": {},
          "execution_count": 26
        }
      ]
    },
    {
      "cell_type": "code",
      "source": [
        "# Don’t Quit\n",
        "poem = \"\"\"\n",
        "  When things go wrong, as they sometimes will,\n",
        "  when the road you’re trudging seems all uphill,\n",
        "  when the funds are low and the debts are high,\n",
        "  and you want to smile but you have to sigh,\n",
        "  when care is pressing you down a bit – rest if you must, but don’t you quit.\n",
        "  Life is queer with its twists and turns.\n",
        "  As everyone of us sometimes learns.\n",
        "  And many a fellow turns about when he might have won had he stuck it out.\n",
        "  Don’t give up though the pace seems slow – you may succeed with another blow.\n",
        "  Often the goal is nearer than it seems to a faint and faltering man;\n",
        "  Often the struggler has given up when he might have captured the victor’s cup;\n",
        "  and he learned too late when the night came down,\n",
        "  how close he was to the golden crown.\n",
        "  Success is failure turned inside out – the silver tint of the clouds of doubt,\n",
        "  and when you never can tell how close you are,\n",
        "  it may be near when it seems afar;\n",
        "  so stick to the fight when you’re hardest hit – it’s when things seem worst, you must not quit.\n",
        "\"\"\"\n",
        "model.predict(clean(poem))"
      ],
      "metadata": {
        "colab": {
          "base_uri": "https://localhost:8080/"
        },
        "id": "a6S4PXs-a3ti",
        "outputId": "909851ca-7e88-43d7-c454-5af1cdc48937"
      },
      "execution_count": null,
      "outputs": [
        {
          "output_type": "execute_result",
          "data": {
            "text/plain": [
              "['Don’t Quit']"
            ]
          },
          "metadata": {},
          "execution_count": 27
        }
      ]
    },
    {
      "cell_type": "code",
      "source": [
        "# Mother to Son\n",
        "poem = \"\"\"\n",
        "  Well, son, I’ll tell you:\n",
        "  Life for me ain’t been no crystal stair.\n",
        "  It’s had tacks in it,\n",
        "  And splinters,\n",
        "  And boards torn up,\n",
        "  And places with no carpet on the floor—\n",
        "  Bare;\n",
        "  But all the time\n",
        "  I’se been a’climbin’ on,\n",
        "  And reachin’ landin’s,\n",
        "  And turnin’ corners,\n",
        "  And sometimes goin’ in the dark,\n",
        "  Where there ain’t been no light.\n",
        "  So boy, don’t you turn back;\n",
        "  Don’t you sit down on the steps,\n",
        "  ‘Cause you finds it’s kinder hard;\n",
        "  Don’t you fall now—.\n",
        "  For I’se still goin’, honey,\n",
        "  I’se still climbin’,\n",
        "  And life for me ain’t been no crystal stair.\n",
        "\"\"\"\n",
        "model.predict(clean(poem))"
      ],
      "metadata": {
        "colab": {
          "base_uri": "https://localhost:8080/"
        },
        "id": "rBqpO5VkbSeU",
        "outputId": "0c8c716d-3ca4-4bb7-c55f-4bd32e2bfc55"
      },
      "execution_count": null,
      "outputs": [
        {
          "output_type": "execute_result",
          "data": {
            "text/plain": [
              "['life for me hasnt been no crystal stair']"
            ]
          },
          "metadata": {},
          "execution_count": 28
        }
      ]
    },
    {
      "cell_type": "code",
      "source": [
        "# Immortality\n",
        "poem = \"\"\"\n",
        "  To be forever young\n",
        "  and ride like a tipsy Triton\n",
        "  on the crest of a wave\n",
        "  that is just forever breaking. . . .\n",
        "  Days—an eternal dawning\n",
        "  heralded with the fanfare of sun,\n",
        "  Nights—a blaze of glory\n",
        "  the swishing tail of a comet,\n",
        "  Life—an infinite loving\n",
        "  Sweeping to the peak of anticipation\n",
        "  Trembling breathlessly at the brink of realization. . . .\n",
        "\"\"\"\n",
        "model.predict(clean(poem))"
      ],
      "metadata": {
        "colab": {
          "base_uri": "https://localhost:8080/"
        },
        "id": "0ew5yNwJbnOy",
        "outputId": "9bc31b54-1d93-407d-f252-7ba88d87e990"
      },
      "execution_count": null,
      "outputs": [
        {
          "output_type": "execute_result",
          "data": {
            "text/plain": [
              "['To be forever young and ride like a tipsy triton on the crest of a wave']"
            ]
          },
          "metadata": {},
          "execution_count": 29
        }
      ]
    },
    {
      "cell_type": "code",
      "source": [
        "from google.colab import drive\n",
        "drive.mount('/content/drive')"
      ],
      "metadata": {
        "colab": {
          "base_uri": "https://localhost:8080/"
        },
        "id": "uuDJXQsAwpz6",
        "outputId": "2f6f04de-de4a-46de-df29-54539390454c"
      },
      "execution_count": null,
      "outputs": [
        {
          "output_type": "stream",
          "name": "stdout",
          "text": [
            "Drive already mounted at /content/drive; to attempt to forcibly remount, call drive.mount(\"/content/drive\", force_remount=True).\n"
          ]
        }
      ]
    },
    {
      "cell_type": "code",
      "source": [
        "# It's advisable to create a new python environment and install simplet5\n",
        "!pip install --upgrade simplet5"
      ],
      "metadata": {
        "colab": {
          "base_uri": "https://localhost:8080/"
        },
        "id": "LNyx-rSbz_IR",
        "outputId": "450ed83e-3fd2-4c3e-e2e3-8d13660cff4a"
      },
      "execution_count": null,
      "outputs": [
        {
          "output_type": "stream",
          "name": "stdout",
          "text": [
            "Requirement already satisfied: simplet5 in /usr/local/lib/python3.10/dist-packages (0.1.4)\n",
            "Requirement already satisfied: numpy in /usr/local/lib/python3.10/dist-packages (from simplet5) (1.25.2)\n",
            "Requirement already satisfied: pandas in /usr/local/lib/python3.10/dist-packages (from simplet5) (2.0.3)\n",
            "Requirement already satisfied: sentencepiece in /usr/local/lib/python3.10/dist-packages (from simplet5) (0.1.99)\n",
            "Requirement already satisfied: torch!=1.8.0,>=1.7.0 in /usr/local/lib/python3.10/dist-packages (from simplet5) (2.3.0+cu121)\n",
            "Requirement already satisfied: transformers==4.16.2 in /usr/local/lib/python3.10/dist-packages (from simplet5) (4.16.2)\n",
            "Requirement already satisfied: pytorch-lightning==1.5.10 in /usr/local/lib/python3.10/dist-packages (from simplet5) (1.5.10)\n",
            "Requirement already satisfied: future>=0.17.1 in /usr/local/lib/python3.10/dist-packages (from pytorch-lightning==1.5.10->simplet5) (0.18.3)\n",
            "Requirement already satisfied: tqdm>=4.41.0 in /usr/local/lib/python3.10/dist-packages (from pytorch-lightning==1.5.10->simplet5) (4.66.4)\n",
            "Requirement already satisfied: PyYAML>=5.1 in /usr/local/lib/python3.10/dist-packages (from pytorch-lightning==1.5.10->simplet5) (6.0.1)\n",
            "Requirement already satisfied: fsspec[http]!=2021.06.0,>=2021.05.0 in /usr/local/lib/python3.10/dist-packages (from pytorch-lightning==1.5.10->simplet5) (2023.6.0)\n",
            "Requirement already satisfied: tensorboard>=2.2.0 in /usr/local/lib/python3.10/dist-packages (from pytorch-lightning==1.5.10->simplet5) (2.15.2)\n",
            "Requirement already satisfied: torchmetrics>=0.4.1 in /usr/local/lib/python3.10/dist-packages (from pytorch-lightning==1.5.10->simplet5) (1.4.0.post0)\n",
            "Requirement already satisfied: pyDeprecate==0.3.1 in /usr/local/lib/python3.10/dist-packages (from pytorch-lightning==1.5.10->simplet5) (0.3.1)\n",
            "Requirement already satisfied: packaging>=17.0 in /usr/local/lib/python3.10/dist-packages (from pytorch-lightning==1.5.10->simplet5) (24.0)\n",
            "Requirement already satisfied: typing-extensions in /usr/local/lib/python3.10/dist-packages (from pytorch-lightning==1.5.10->simplet5) (4.12.1)\n",
            "Requirement already satisfied: setuptools==59.5.0 in /usr/local/lib/python3.10/dist-packages (from pytorch-lightning==1.5.10->simplet5) (59.5.0)\n",
            "Requirement already satisfied: filelock in /usr/local/lib/python3.10/dist-packages (from transformers==4.16.2->simplet5) (3.14.0)\n",
            "Requirement already satisfied: huggingface-hub<1.0,>=0.1.0 in /usr/local/lib/python3.10/dist-packages (from transformers==4.16.2->simplet5) (0.23.2)\n",
            "Requirement already satisfied: regex!=2019.12.17 in /usr/local/lib/python3.10/dist-packages (from transformers==4.16.2->simplet5) (2024.5.15)\n",
            "Requirement already satisfied: requests in /usr/local/lib/python3.10/dist-packages (from transformers==4.16.2->simplet5) (2.31.0)\n",
            "Requirement already satisfied: sacremoses in /usr/local/lib/python3.10/dist-packages (from transformers==4.16.2->simplet5) (0.1.1)\n",
            "Requirement already satisfied: tokenizers!=0.11.3,>=0.10.1 in /usr/local/lib/python3.10/dist-packages (from transformers==4.16.2->simplet5) (0.19.1)\n",
            "Requirement already satisfied: sympy in /usr/local/lib/python3.10/dist-packages (from torch!=1.8.0,>=1.7.0->simplet5) (1.12.1)\n",
            "Requirement already satisfied: networkx in /usr/local/lib/python3.10/dist-packages (from torch!=1.8.0,>=1.7.0->simplet5) (3.3)\n",
            "Requirement already satisfied: jinja2 in /usr/local/lib/python3.10/dist-packages (from torch!=1.8.0,>=1.7.0->simplet5) (3.1.4)\n",
            "Requirement already satisfied: nvidia-cuda-nvrtc-cu12==12.1.105 in /usr/local/lib/python3.10/dist-packages (from torch!=1.8.0,>=1.7.0->simplet5) (12.1.105)\n",
            "Requirement already satisfied: nvidia-cuda-runtime-cu12==12.1.105 in /usr/local/lib/python3.10/dist-packages (from torch!=1.8.0,>=1.7.0->simplet5) (12.1.105)\n",
            "Requirement already satisfied: nvidia-cuda-cupti-cu12==12.1.105 in /usr/local/lib/python3.10/dist-packages (from torch!=1.8.0,>=1.7.0->simplet5) (12.1.105)\n",
            "Requirement already satisfied: nvidia-cudnn-cu12==8.9.2.26 in /usr/local/lib/python3.10/dist-packages (from torch!=1.8.0,>=1.7.0->simplet5) (8.9.2.26)\n",
            "Requirement already satisfied: nvidia-cublas-cu12==12.1.3.1 in /usr/local/lib/python3.10/dist-packages (from torch!=1.8.0,>=1.7.0->simplet5) (12.1.3.1)\n",
            "Requirement already satisfied: nvidia-cufft-cu12==11.0.2.54 in /usr/local/lib/python3.10/dist-packages (from torch!=1.8.0,>=1.7.0->simplet5) (11.0.2.54)\n",
            "Requirement already satisfied: nvidia-curand-cu12==10.3.2.106 in /usr/local/lib/python3.10/dist-packages (from torch!=1.8.0,>=1.7.0->simplet5) (10.3.2.106)\n",
            "Requirement already satisfied: nvidia-cusolver-cu12==11.4.5.107 in /usr/local/lib/python3.10/dist-packages (from torch!=1.8.0,>=1.7.0->simplet5) (11.4.5.107)\n",
            "Requirement already satisfied: nvidia-cusparse-cu12==12.1.0.106 in /usr/local/lib/python3.10/dist-packages (from torch!=1.8.0,>=1.7.0->simplet5) (12.1.0.106)\n",
            "Requirement already satisfied: nvidia-nccl-cu12==2.20.5 in /usr/local/lib/python3.10/dist-packages (from torch!=1.8.0,>=1.7.0->simplet5) (2.20.5)\n",
            "Requirement already satisfied: nvidia-nvtx-cu12==12.1.105 in /usr/local/lib/python3.10/dist-packages (from torch!=1.8.0,>=1.7.0->simplet5) (12.1.105)\n",
            "Requirement already satisfied: triton==2.3.0 in /usr/local/lib/python3.10/dist-packages (from torch!=1.8.0,>=1.7.0->simplet5) (2.3.0)\n",
            "Requirement already satisfied: nvidia-nvjitlink-cu12 in /usr/local/lib/python3.10/dist-packages (from nvidia-cusolver-cu12==11.4.5.107->torch!=1.8.0,>=1.7.0->simplet5) (12.5.40)\n",
            "Requirement already satisfied: python-dateutil>=2.8.2 in /usr/local/lib/python3.10/dist-packages (from pandas->simplet5) (2.8.2)\n",
            "Requirement already satisfied: pytz>=2020.1 in /usr/local/lib/python3.10/dist-packages (from pandas->simplet5) (2023.4)\n",
            "Requirement already satisfied: tzdata>=2022.1 in /usr/local/lib/python3.10/dist-packages (from pandas->simplet5) (2024.1)\n",
            "Requirement already satisfied: aiohttp!=4.0.0a0,!=4.0.0a1 in /usr/local/lib/python3.10/dist-packages (from fsspec[http]!=2021.06.0,>=2021.05.0->pytorch-lightning==1.5.10->simplet5) (3.9.5)\n",
            "Requirement already satisfied: six>=1.5 in /usr/local/lib/python3.10/dist-packages (from python-dateutil>=2.8.2->pandas->simplet5) (1.16.0)\n",
            "Requirement already satisfied: absl-py>=0.4 in /usr/local/lib/python3.10/dist-packages (from tensorboard>=2.2.0->pytorch-lightning==1.5.10->simplet5) (1.4.0)\n",
            "Requirement already satisfied: grpcio>=1.48.2 in /usr/local/lib/python3.10/dist-packages (from tensorboard>=2.2.0->pytorch-lightning==1.5.10->simplet5) (1.64.1)\n",
            "Requirement already satisfied: google-auth<3,>=1.6.3 in /usr/local/lib/python3.10/dist-packages (from tensorboard>=2.2.0->pytorch-lightning==1.5.10->simplet5) (2.27.0)\n",
            "Requirement already satisfied: google-auth-oauthlib<2,>=0.5 in /usr/local/lib/python3.10/dist-packages (from tensorboard>=2.2.0->pytorch-lightning==1.5.10->simplet5) (1.2.0)\n",
            "Requirement already satisfied: markdown>=2.6.8 in /usr/local/lib/python3.10/dist-packages (from tensorboard>=2.2.0->pytorch-lightning==1.5.10->simplet5) (3.6)\n",
            "Requirement already satisfied: protobuf!=4.24.0,>=3.19.6 in /usr/local/lib/python3.10/dist-packages (from tensorboard>=2.2.0->pytorch-lightning==1.5.10->simplet5) (3.20.3)\n",
            "Requirement already satisfied: tensorboard-data-server<0.8.0,>=0.7.0 in /usr/local/lib/python3.10/dist-packages (from tensorboard>=2.2.0->pytorch-lightning==1.5.10->simplet5) (0.7.2)\n",
            "Requirement already satisfied: werkzeug>=1.0.1 in /usr/local/lib/python3.10/dist-packages (from tensorboard>=2.2.0->pytorch-lightning==1.5.10->simplet5) (3.0.3)\n",
            "Requirement already satisfied: charset-normalizer<4,>=2 in /usr/local/lib/python3.10/dist-packages (from requests->transformers==4.16.2->simplet5) (3.3.2)\n",
            "Requirement already satisfied: idna<4,>=2.5 in /usr/local/lib/python3.10/dist-packages (from requests->transformers==4.16.2->simplet5) (3.7)\n",
            "Requirement already satisfied: urllib3<3,>=1.21.1 in /usr/local/lib/python3.10/dist-packages (from requests->transformers==4.16.2->simplet5) (2.0.7)\n",
            "Requirement already satisfied: certifi>=2017.4.17 in /usr/local/lib/python3.10/dist-packages (from requests->transformers==4.16.2->simplet5) (2024.6.2)\n",
            "Requirement already satisfied: lightning-utilities>=0.8.0 in /usr/local/lib/python3.10/dist-packages (from torchmetrics>=0.4.1->pytorch-lightning==1.5.10->simplet5) (0.11.2)\n",
            "Requirement already satisfied: MarkupSafe>=2.0 in /usr/local/lib/python3.10/dist-packages (from jinja2->torch!=1.8.0,>=1.7.0->simplet5) (2.1.5)\n",
            "Requirement already satisfied: click in /usr/local/lib/python3.10/dist-packages (from sacremoses->transformers==4.16.2->simplet5) (8.1.7)\n",
            "Requirement already satisfied: joblib in /usr/local/lib/python3.10/dist-packages (from sacremoses->transformers==4.16.2->simplet5) (1.4.2)\n",
            "Requirement already satisfied: mpmath<1.4.0,>=1.1.0 in /usr/local/lib/python3.10/dist-packages (from sympy->torch!=1.8.0,>=1.7.0->simplet5) (1.3.0)\n",
            "Requirement already satisfied: aiosignal>=1.1.2 in /usr/local/lib/python3.10/dist-packages (from aiohttp!=4.0.0a0,!=4.0.0a1->fsspec[http]!=2021.06.0,>=2021.05.0->pytorch-lightning==1.5.10->simplet5) (1.3.1)\n",
            "Requirement already satisfied: attrs>=17.3.0 in /usr/local/lib/python3.10/dist-packages (from aiohttp!=4.0.0a0,!=4.0.0a1->fsspec[http]!=2021.06.0,>=2021.05.0->pytorch-lightning==1.5.10->simplet5) (23.2.0)\n",
            "Requirement already satisfied: frozenlist>=1.1.1 in /usr/local/lib/python3.10/dist-packages (from aiohttp!=4.0.0a0,!=4.0.0a1->fsspec[http]!=2021.06.0,>=2021.05.0->pytorch-lightning==1.5.10->simplet5) (1.4.1)\n",
            "Requirement already satisfied: multidict<7.0,>=4.5 in /usr/local/lib/python3.10/dist-packages (from aiohttp!=4.0.0a0,!=4.0.0a1->fsspec[http]!=2021.06.0,>=2021.05.0->pytorch-lightning==1.5.10->simplet5) (6.0.5)\n",
            "Requirement already satisfied: yarl<2.0,>=1.0 in /usr/local/lib/python3.10/dist-packages (from aiohttp!=4.0.0a0,!=4.0.0a1->fsspec[http]!=2021.06.0,>=2021.05.0->pytorch-lightning==1.5.10->simplet5) (1.9.4)\n",
            "Requirement already satisfied: async-timeout<5.0,>=4.0 in /usr/local/lib/python3.10/dist-packages (from aiohttp!=4.0.0a0,!=4.0.0a1->fsspec[http]!=2021.06.0,>=2021.05.0->pytorch-lightning==1.5.10->simplet5) (4.0.3)\n",
            "Requirement already satisfied: cachetools<6.0,>=2.0.0 in /usr/local/lib/python3.10/dist-packages (from google-auth<3,>=1.6.3->tensorboard>=2.2.0->pytorch-lightning==1.5.10->simplet5) (5.3.3)\n",
            "Requirement already satisfied: pyasn1-modules>=0.2.1 in /usr/local/lib/python3.10/dist-packages (from google-auth<3,>=1.6.3->tensorboard>=2.2.0->pytorch-lightning==1.5.10->simplet5) (0.4.0)\n",
            "Requirement already satisfied: rsa<5,>=3.1.4 in /usr/local/lib/python3.10/dist-packages (from google-auth<3,>=1.6.3->tensorboard>=2.2.0->pytorch-lightning==1.5.10->simplet5) (4.9)\n",
            "Requirement already satisfied: requests-oauthlib>=0.7.0 in /usr/local/lib/python3.10/dist-packages (from google-auth-oauthlib<2,>=0.5->tensorboard>=2.2.0->pytorch-lightning==1.5.10->simplet5) (1.3.1)\n",
            "Requirement already satisfied: pyasn1<0.7.0,>=0.4.6 in /usr/local/lib/python3.10/dist-packages (from pyasn1-modules>=0.2.1->google-auth<3,>=1.6.3->tensorboard>=2.2.0->pytorch-lightning==1.5.10->simplet5) (0.6.0)\n",
            "Requirement already satisfied: oauthlib>=3.0.0 in /usr/local/lib/python3.10/dist-packages (from requests-oauthlib>=0.7.0->google-auth-oauthlib<2,>=0.5->tensorboard>=2.2.0->pytorch-lightning==1.5.10->simplet5) (3.2.2)\n"
          ]
        }
      ]
    },
    {
      "cell_type": "code",
      "source": [
        "def clean(input_string):\n",
        "    import string\n",
        "    import re\n",
        "\n",
        "    punctuation_chars = set(string.punctuation)\n",
        "    cleaned_string = ''.join(char for char in input_string if char not in punctuation_chars)\n",
        "    cleaned_string = cleaned_string.replace('\\n', '')\n",
        "    cleaned_string = re.sub(r'\\s+', ' ', cleaned_string)\n",
        "    return cleaned_string.lower()\n",
        "\n",
        "def generate_title(poem):\n",
        "  from simplet5 import SimpleT5\n",
        "\n",
        "  # instantiate\n",
        "  model = SimpleT5()\n",
        "  model.load_model(\"t5\",\"/content/drive/MyDrive/Poetry/simplet5-epoch-4-train-loss-nan-val-loss-2.9005\", use_gpu=True)\n",
        "\n",
        "  return model.predict(clean(poem))[0]"
      ],
      "metadata": {
        "id": "ZB5gbSoO11Oa"
      },
      "execution_count": null,
      "outputs": []
    },
    {
      "cell_type": "code",
      "source": [
        "poem = \"\"\"\n",
        "  When things go wrong, as they sometimes will,\n",
        "  when the road you’re trudging seems all uphill,\n",
        "  when the funds are low and the debts are high,\n",
        "  and you want to smile but you have to sigh,\n",
        "  when care is pressing you down a bit – rest if you must, but don’t you quit.\n",
        "  Life is queer with its twists and turns.\n",
        "  As everyone of us sometimes learns.\n",
        "  And many a fellow turns about when he might have won had he stuck it out.\n",
        "  Don’t give up though the pace seems slow – you may succeed with another blow.\n",
        "  Often the goal is nearer than it seems to a faint and faltering man;\n",
        "  Often the struggler has given up when he might have captured the victor’s cup;\n",
        "  and he learned too late when the night came down,\n",
        "  how close he was to the golden crown.\n",
        "  Success is failure turned inside out – the silver tint of the clouds of doubt,\n",
        "  and when you never can tell how close you are,\n",
        "  it may be near when it seems afar;\n",
        "  so stick to the fight when you’re hardest hit – it’s when things seem worst, you must not quit.\n",
        "\"\"\"\n",
        "# Don’t Quit\n",
        "generate_title(poem)"
      ],
      "metadata": {
        "colab": {
          "base_uri": "https://localhost:8080/",
          "height": 35
        },
        "id": "1dpvDi8C1OV4",
        "outputId": "31807405-40de-4555-c23b-4aa5926291a1"
      },
      "execution_count": null,
      "outputs": [
        {
          "output_type": "execute_result",
          "data": {
            "text/plain": [
              "'Don’t Quit'"
            ],
            "application/vnd.google.colaboratory.intrinsic+json": {
              "type": "string"
            }
          },
          "metadata": {},
          "execution_count": 11
        }
      ]
    }
  ],
  "metadata": {
    "colab": {
      "provenance": [],
      "gpuType": "T4"
    },
    "kernelspec": {
      "display_name": "Python 3",
      "name": "python3"
    },
    "language_info": {
      "name": "python"
    },
    "accelerator": "GPU"
  },
  "nbformat": 4,
  "nbformat_minor": 0
}